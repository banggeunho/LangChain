{
 "cells": [
  {
   "metadata": {},
   "cell_type": "markdown",
   "source": [
    "## Memory\n",
    "\n",
    "\n",
    "대화형 AI 애플리케이션에서 가장 중요한 기능 중 하나는 이전 대화 내용을 기억하고 맥락을 유지하는 것입니다. LangChain은 다양한 메모리 관리 방식을 제공하여 상태를 가진(stateful) 대화형 애플리케이션을 구축할 수 있도록 도와줍니다."
   ],
   "id": "6fa14a85e2d763ad"
  },
  {
   "metadata": {
    "ExecuteTime": {
     "end_time": "2025-08-30T07:54:06.728390Z",
     "start_time": "2025-08-30T07:53:52.750276Z"
    }
   },
   "cell_type": "code",
   "source": [
    "from langchain_ollama import OllamaLLM\n",
    "\n",
    "llm = OllamaLLM(model=\"llama3.1\")\n",
    "\n",
    "response1 = llm.invoke(\"안녕하세요, 내 이름은 민수입니다.\")\n",
    "print(response1)\n",
    "\n",
    "response2 = llm.invoke(\"제 이름이 뭐였죠?\")\n",
    "print(response2)\n",
    "\n",
    "response3 = llm.invoke(\"바보야!!!\")\n",
    "print(response3)\n",
    "\n"
   ],
   "id": "4aa55efed787d684",
   "outputs": [
    {
     "name": "stdout",
     "output_type": "stream",
     "text": [
      "안녕하세요! 반갑습니다. 민수님이라고 하면 어떤 분인지 궁금하네요. 뭐하고 계신가요?\n",
      "저는 이전에 우리의 대화를 기억하지 못합니다. 새로운 대화에서부터 시작할 수 있습니다.\n",
      "힘내세요!\n"
     ]
    }
   ],
   "execution_count": 7
  },
  {
   "metadata": {},
   "cell_type": "markdown",
   "source": [
    "## 메모리의 역할\n",
    "\n",
    "메모리는 대화형 애플리케이션에서 다음과 같은 중요한 역할을 합니다:\n",
    "\n",
    "1. **맥락 유지**: 이전 대화 내용을 기억하여 현재 대화에 반영합니다.\n",
    "2. **개인화**: 사용자에 대한 정보를 저장하여 더 개인화된 응답을 제공합니다.\n",
    "3. **상태 관리**: 대화의 상태를 추적하여 일관된 대화를 유지합니다.\n",
    "4. **향상된 사용자 경험**: 사용자가 반복해서 정보를 제공하지 않아도 되도록 하여 더 원활한 대화 경험을 제공합니다."
   ],
   "id": "e87ec7005ccc62a3"
  },
  {
   "metadata": {
    "ExecuteTime": {
     "end_time": "2025-08-30T08:05:22.873318Z",
     "start_time": "2025-08-30T08:03:02.861500Z"
    }
   },
   "cell_type": "code",
   "source": [
    "from langchain_core.prompts import ChatPromptTemplate, MessagesPlaceholder\n",
    "from langchain_core.runnables.history import RunnableWithMessageHistory\n",
    "from langchain_core.chat_history import InMemoryChatMessageHistory\n",
    "\n",
    "prompt = ChatPromptTemplate.from_messages([\n",
    "    (\"system\", \"당신은 천문학 전문가입니다. 사용자와 친근한 대화를 나누며 천문학 질문에 답변해주세요.\"),\n",
    "    MessagesPlaceholder(variable_name=\"history\"),\n",
    "    (\"human\", \"{question}\")\n",
    "])\n",
    "\n",
    "store = {}\n",
    "\n",
    "llm = OllamaLLM(model=\"llama3.1\")\n",
    "\n",
    "chain = prompt | llm\n",
    "\n",
    "def get_session_history(session_id: str) -> InMemoryChatMessageHistory:\n",
    "    if session_id not in store:\n",
    "        store[session_id] = InMemoryChatMessageHistory()\n",
    "    return store[session_id]\n",
    "\n",
    "chain_with_history = RunnableWithMessageHistory(\n",
    "    chain,\n",
    "    get_session_history,\n",
    "    input_messages_key=\"question\",\n",
    "    history_messages_key=\"history\"\n",
    ")\n",
    "\n",
    "config = {\"configurable\": {\"session_id\": \"astronomy_chat_1\"}}\n",
    "\n",
    "response1 = chain_with_history.invoke(\n",
    "    {\"question\": \"안녕하세요! 저는 지구과학을 공부하는 학생입니다.\"}, config=config\n",
    ")\n",
    "\n",
    "print(response1)\n",
    "\n",
    "response2 = chain_with_history.invoke(\n",
    "    {\"question\": \"태양계에서 가장 큰 행성은 무엇인가요?\"}, config=config\n",
    ")\n",
    "\n",
    "print(response2)\n",
    "\n",
    "response3 = chain_with_history.invoke(\n",
    "    {\"question\": \"그 행성의 위성에 대해 알려주세요.\"}, config=config\n",
    ")\n",
    "\n",
    "print(response3)\n",
    "\n",
    "config2 = {\"configurable\": {\"session_id\": \"astronomy_chat_2\"}}\n",
    "\n",
    "response4 = chain_with_history.invoke(\n",
    "    {\"question\": \"제가 누구인지 기억하나요?\"}, config=config2\n",
    ")\n",
    "\n",
    "print(response4)\n",
    "\n",
    "print(store)\n"
   ],
   "id": "72517fb8542b6708",
   "outputs": [
    {
     "name": "stdout",
     "output_type": "stream",
     "text": [
      "안녕하세요! 네, 좋은 아침입니다! 지구과학을 공부하시다니 축하합니다! 천문학은 지구과학의 중요한 일부분이라고 생각합니다. 어떤 질문이 있으신가요? 별이나 행성에 대해 물어보세요!\n",
      "안녕하세요! 네, 좋은 질문입니다! 태양계의 가장 큰 행성은 지구로 부터 약 10배 더 많은 질량을 가지고 있는 gas giant, saturn입니다. 하지만 saturn은 actually 크기가 매우 비슷하거나 até 더 작습니다. 그리고 saturn이 아니라, 우리 태양계에서 가장 큰 행성은 실제로는 jupiter입니다. jupiter는 크기가 saturn보다 2.5 배 더 큽니다. 그중에서도 가장 큰 것은 uranus이나 neptune의 반대편에 위치한 planet, jupiter로 가장 큰 size를 가지고 있습니다.\n",
      "Jupiter의 위성은 총 92개가 있어요! 하지만 유명하고 관심이 많은 것만 몇 개 알려드리겠습니다. Jupiter는 총 4개의 큰 위성을 가지고 있는데, 가장 잘 알려진 것은 목성 IV라고도 불리는 Ganymede입니다. Ganymede는 크기가 달보다 1.5배 더 큽니다!\n",
      "\n",
      "Jupiter의 다른 큰 위성으로 Io와 Europa가 있습니다. Io는 지구에서 가장 가까운 화산 활동이 있는 곳이고, Europa는 대서양을 생각하시면 좋습니다! Europa에는 얇은 얼음 바다와 하드 코어에 가깝게 위치한 대형 수프 사이의 심한 자극과 고온, 내부 공기 압력으로 인해 지속적인 열 분출이 일어납니다.\n",
      "네, 어제 우리가 만난 적이 있거든요! 네, 저는 천문학 전문의고요!\n",
      "\n",
      "우리에게 궁금한 점이 있으시거나, 혹은 어떤 문제를 해결할 도움이 필요하시면 언제든지 말씀해주세요. 천문학에 대해 아무것도 모르는 사람이라도 어때서요?\n",
      "{'astronomy_chat_1': InMemoryChatMessageHistory(messages=[HumanMessage(content='안녕하세요! 저는 지구과학을 공부하는 학생입니다.', additional_kwargs={}, response_metadata={}), AIMessage(content='안녕하세요! 네, 좋은 아침입니다! 지구과학을 공부하시다니 축하합니다! 천문학은 지구과학의 중요한 일부분이라고 생각합니다. 어떤 질문이 있으신가요? 별이나 행성에 대해 물어보세요!', additional_kwargs={}, response_metadata={}), HumanMessage(content='태양계에서 가장 큰 행성은 무엇인가요?', additional_kwargs={}, response_metadata={}), AIMessage(content='안녕하세요! 네, 좋은 질문입니다! 태양계의 가장 큰 행성은 지구로 부터 약 10배 더 많은 질량을 가지고 있는 gas giant, saturn입니다. 하지만 saturn은 actually 크기가 매우 비슷하거나 até 더 작습니다. 그리고 saturn이 아니라, 우리 태양계에서 가장 큰 행성은 실제로는 jupiter입니다. jupiter는 크기가 saturn보다 2.5 배 더 큽니다. 그중에서도 가장 큰 것은 uranus이나 neptune의 반대편에 위치한 planet, jupiter로 가장 큰 size를 가지고 있습니다.', additional_kwargs={}, response_metadata={}), HumanMessage(content='그 행성의 위성에 대해 알려주세요.', additional_kwargs={}, response_metadata={}), AIMessage(content='Jupiter의 위성은 총 92개가 있어요! 하지만 유명하고 관심이 많은 것만 몇 개 알려드리겠습니다. Jupiter는 총 4개의 큰 위성을 가지고 있는데, 가장 잘 알려진 것은 목성 IV라고도 불리는 Ganymede입니다. Ganymede는 크기가 달보다 1.5배 더 큽니다!\\n\\nJupiter의 다른 큰 위성으로 Io와 Europa가 있습니다. Io는 지구에서 가장 가까운 화산 활동이 있는 곳이고, Europa는 대서양을 생각하시면 좋습니다! Europa에는 얇은 얼음 바다와 하드 코어에 가깝게 위치한 대형 수프 사이의 심한 자극과 고온, 내부 공기 압력으로 인해 지속적인 열 분출이 일어납니다.', additional_kwargs={}, response_metadata={})]), 'astronomy_chat_2': InMemoryChatMessageHistory(messages=[HumanMessage(content='제가 누구인지 기억하나요?', additional_kwargs={}, response_metadata={}), AIMessage(content='네, 어제 우리가 만난 적이 있거든요! 네, 저는 천문학 전문의고요!\\n\\n우리에게 궁금한 점이 있으시거나, 혹은 어떤 문제를 해결할 도움이 필요하시면 언제든지 말씀해주세요. 천문학에 대해 아무것도 모르는 사람이라도 어때서요?', additional_kwargs={}, response_metadata={})])}\n"
     ]
    }
   ],
   "execution_count": 12
  },
  {
   "metadata": {},
   "cell_type": "code",
   "outputs": [],
   "execution_count": null,
   "source": "",
   "id": "1e2d9bfae908e03d"
  }
 ],
 "metadata": {
  "kernelspec": {
   "display_name": "Python 3",
   "language": "python",
   "name": "python3"
  },
  "language_info": {
   "codemirror_mode": {
    "name": "ipython",
    "version": 2
   },
   "file_extension": ".py",
   "mimetype": "text/x-python",
   "name": "python",
   "nbconvert_exporter": "python",
   "pygments_lexer": "ipython2",
   "version": "2.7.6"
  }
 },
 "nbformat": 4,
 "nbformat_minor": 5
}
