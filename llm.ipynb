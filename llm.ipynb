{
 "cells": [
  {
   "metadata": {
    "ExecuteTime": {
     "end_time": "2025-08-30T07:20:36.185422Z",
     "start_time": "2025-08-30T07:20:36.137089Z"
    }
   },
   "cell_type": "code",
   "source": [
    "from langchain_core.prompts import ChatPromptTemplate\n",
    "from langchain_ollama import OllamaLLM\n",
    "\n",
    "llm = OllamaLLM(\n",
    "    model=\"llama3.1\"\n",
    ")\n",
    "\n",
    "# llm.invoke(\"한국의 대표적인 관광지 3군데를 추천해주세요.\")\n"
   ],
   "id": "fbc121e30a2defb3",
   "outputs": [],
   "execution_count": 17
  },
  {
   "metadata": {
    "ExecuteTime": {
     "end_time": "2025-08-30T07:20:35.655294Z",
     "start_time": "2025-08-30T07:20:10.529848Z"
    }
   },
   "cell_type": "code",
   "source": [
    "chat = OllamaLLM(\n",
    "    model=\"llama3.1\"\n",
    ")\n",
    "\n",
    "chat_prompt = ChatPromptTemplate.from_messages([\n",
    "    (\"system\", \"이 시스템은 여행 전문가입니다.\"),\n",
    "    (\"user\", \"{user_input}\")\n",
    "])\n",
    "\n",
    "chain = chat_prompt | chat\n",
    "chain.invoke({\"user_input\": \"한국의 대표적인 관광지 3군데를 추천해주세요.\"})"
   ],
   "id": "f83d60dc08de69d0",
   "outputs": [
    {
     "data": {
      "text/plain": [
       "'한국은 자연 풍경과 역사, 문화 등 다양한 장소로 유명합니다. 한국의 대표적인 관광지는 경주에서 시작하여, 제주도까지 다양합니다.\\n\\n1. 경주\\n 경주는 도서지역으로서 가파른 해안과 바다를 품고 있습니다. 경주에는 백악산성이 있는데 이것은 18세기부터 현재까지 사용되어 오며, 내부의 성당도 마찬가지로 역사적으로 중요한 유적지로 자리 잡고 있습니다.\\n\\n2. 설악산\\n 설악산은 한국에서 가장 높은 산입니다. 높이 1,708m에 달하여 자연을 조망하며, 기암지대와 폭포를 볼 수 있는 멋진 장소입니다. 한라산처럼 비정상적인 경관을 가지고 있습니다.\\n\\n3. 제주도\\n 제주도의 특징은 유네스코 세계 자연 기념물로 선정된 만다늘 등으로 가운데에 있는 화산이 있다는 것입니다. 또한 바다의 조망과 섬의 고유한 생태를 볼 수 있습니다.'"
      ]
     },
     "execution_count": 15,
     "metadata": {},
     "output_type": "execute_result"
    }
   ],
   "execution_count": 15
  },
  {
   "metadata": {},
   "cell_type": "markdown",
   "source": [
    "LLM 모델 파라미터\n",
    "\n",
    "Temperature: 생성된 텍스트의 다양성을 조정합니다. 값이 작으면 예측 가능하고 일관된 출력을 생성하는 반면, 값이 크면 다양하고 예측하기 어려운 출력을 생성합니다.\n",
    "\n",
    "Max Tokens (최대 토큰 수): 생성할 최대 토큰 수를 지정합니다. 생성할 텍스트의 길이를 제한합니다.\n",
    "\n",
    "Top P (Top Probability): 생성 과정에서 특정 확률 분포 내에서 상위 P% 토큰만을 고려하는 방식입니다. 이는 출력의 다양성을 조정하는 데 도움이 됩니다.\n",
    "\n",
    "Frequency Penalty (빈도 패널티): 값이 클수록 이미 등장한 단어나 구절이 다시 등장할 확률을 감소시킵니다. 이를 통해 반복을 줄이고 텍스트의 다양성을 증가시킬 수 있습니다. (0~1)\n",
    "\n",
    "Presence Penalty (존재 패널티): 텍스트 내에서 단어의 존재 유무에 따라 그 단어의 선택 확률을 조정합니다. 값이 클수록 아직 텍스트에 등장하지 않은 새로운 단어의 사용이 장려됩니다. (0~1)\n",
    "\n",
    "Stop Sequences (정지 시퀀스): 특정 단어나 구절이 등장할 경우 생성을 멈추도록 설정합니다. 이는 출력을 특정 포인트에서 종료하고자 할 때 사용됩니다."
   ],
   "id": "6fa14a85e2d763ad"
  },
  {
   "metadata": {
    "ExecuteTime": {
     "end_time": "2025-08-30T07:28:58.613713Z",
     "start_time": "2025-08-30T07:28:47.134573Z"
    }
   },
   "cell_type": "code",
   "source": [
    "from langchain_ollama import OllamaLLM\n",
    "\n",
    "params = {\n",
    "    \"temperature\": 0.7,\n",
    "    \"max_tokens\": 100\n",
    "}\n",
    "\n",
    "kwargs = {\n",
    "    \"frequency_penalty\": 0.5,\n",
    "    \"presence_penalty\": 0.5,\n",
    "    \"stop\": [\"\\n\"]\n",
    "}\n",
    "\n",
    "model = OllamaLLM(\n",
    "    model=\"llama3.1\",\n",
    "    **params,\n",
    "    model_kwargs=kwargs\n",
    ")\n",
    "\n",
    "question = \"한국에서 가장 큰 성(castle)은 무엇인가요?\"\n",
    "response = model.invoke(input=question)\n",
    "\n",
    "response"
   ],
   "id": "c452feda135d2dbd",
   "outputs": [
    {
     "data": {
      "text/plain": [
       "'성불암(城佛岩, Gyeongbokgung의 남쪽에 위치한)과 경복궁은 조선시대 당시 건물 수와 규모 면에서 가장 컸고, 역사적 중요성을 지니는 곳입니다. \\n\\n경복궁은 1395년에 세워졌으며, 조선 시대 궁전 중 가장 큰 규모입니다.\\n\\n성불암은 경복궁의 남쪽에 위치한 정상으로 한때는 조선시대의 왕실이 거주하던 곳도였습니다.'"
      ]
     },
     "execution_count": 14,
     "metadata": {},
     "output_type": "execute_result"
    }
   ],
   "execution_count": 14
  },
  {
   "metadata": {
    "ExecuteTime": {
     "end_time": "2025-08-30T07:29:16.270532Z",
     "start_time": "2025-08-30T07:29:05.501275Z"
    }
   },
   "cell_type": "code",
   "source": [
    "from langchain_core.prompts import ChatPromptTemplate\n",
    "\n",
    "prompt = ChatPromptTemplate.from_messages([\n",
    "    (\"system\", \"이 시스템은 천문학 질문에 답변할 수 있습니다.\"),\n",
    "    (\"user\", \"{user_input}\"),\n",
    "])\n",
    "\n",
    "params = {\n",
    "    \"temperature\": 0.7,\n",
    "    \"max_tokens\": 100\n",
    "}\n",
    "\n",
    "model = OllamaLLM(\n",
    "    model=\"llama3.1\",\n",
    "    **params\n",
    ")\n",
    "\n",
    "messages = prompt.format_messages(user_input=\"태양계에서 가장 큰 행성은 무엇인가요?\")\n",
    "\n",
    "before_answer = model.invoke(messages)\n",
    "\n",
    "# # binding 이전 출력\n",
    "print(before_answer)\n",
    "\n",
    "new_params = {\n",
    "    \"max_tokens\": 10\n",
    "}\n",
    "\n",
    "# 모델 호출 시 추가적인 인수를 전달하기 위해 bind 메서드 사용 (응답의 최대 길이를 10 토큰으로 제한)\n",
    "chain = prompt | model\n",
    "\n",
    "after_answer = chain.invoke({\"user_input\": \"태양계에서 가장 큰 행성은 무엇인가요?\"})\n",
    "\n",
    "# binding 이후 출력\n",
    "print(after_answer)"
   ],
   "id": "edf2b136ef8705d0",
   "outputs": [
    {
     "name": "stdout",
     "output_type": "stream",
     "text": [
      "태양계의 8번째 행성인 지구를 포함한 9개의 행성 가운데 4번째 행성이 크기순으로 가장 큰 행성입니다. 지구의 반경보다 12배크다.\n",
      "그것은 지구입니다.\n"
     ]
    }
   ],
   "execution_count": 15
  },
  {
   "metadata": {},
   "cell_type": "code",
   "outputs": [],
   "execution_count": null,
   "source": "",
   "id": "33aa35fa5d2e2aa4"
  }
 ],
 "metadata": {
  "kernelspec": {
   "display_name": "Python 3",
   "language": "python",
   "name": "python3"
  },
  "language_info": {
   "codemirror_mode": {
    "name": "ipython",
    "version": 2
   },
   "file_extension": ".py",
   "mimetype": "text/x-python",
   "name": "python",
   "nbconvert_exporter": "python",
   "pygments_lexer": "ipython2",
   "version": "2.7.6"
  }
 },
 "nbformat": 4,
 "nbformat_minor": 5
}
