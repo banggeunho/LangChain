{
 "cells": [
  {
   "metadata": {},
   "cell_type": "markdown",
   "source": "Output Parser",
   "id": "6fa14a85e2d763ad"
  },
  {
   "metadata": {
    "ExecuteTime": {
     "end_time": "2025-08-30T07:40:36.073953Z",
     "start_time": "2025-08-30T07:40:36.069085Z"
    }
   },
   "cell_type": "code",
   "source": [
    "import json\n",
    "\n",
    "from langchain.chains.question_answering.map_rerank_prompt import output_parser\n",
    "from langchain_core.output_parsers import CommaSeparatedListOutputParser, JsonOutputParser\n",
    "from langchain_ollama import OllamaLLM\n",
    "from pydantic import BaseModel, Field\n",
    "\n",
    "output_parser = CommaSeparatedListOutputParser()\n",
    "format_instructions = output_parser.get_format_instructions()\n",
    "\n",
    "print(format_instructions)"
   ],
   "id": "c452feda135d2dbd",
   "outputs": [
    {
     "name": "stdout",
     "output_type": "stream",
     "text": [
      "Your response should be a list of comma separated values, eg: `foo, bar, baz` or `foo,bar,baz`\n"
     ]
    }
   ],
   "execution_count": 9
  },
  {
   "metadata": {
    "ExecuteTime": {
     "end_time": "2025-08-30T07:39:38.117168Z",
     "start_time": "2025-08-30T07:39:36.020996Z"
    }
   },
   "cell_type": "code",
   "source": [
    "from langchain_core.prompts import PromptTemplate\n",
    "\n",
    "prompt = PromptTemplate(\n",
    "    template=\"List five {subject}.\\n{format_instructions} return only the list.\",\n",
    "    input_variables=[\"subject\"],\n",
    "    partial_variables={\"format_instructions\": format_instructions},\n",
    ")\n",
    "\n",
    "llm = OllamaLLM(model=\"llama3.1\")\n",
    "\n",
    "chain = prompt | llm | output_parser\n",
    "\n",
    "result = chain.invoke({\"subject\": \"programming languages\"})\n",
    "\n",
    "result[:5]"
   ],
   "id": "edf2b136ef8705d0",
   "outputs": [
    {
     "data": {
      "text/plain": [
       "['Python', 'Java', 'JavaScript', 'C++', 'Ruby']"
      ]
     },
     "execution_count": 3,
     "metadata": {},
     "output_type": "execute_result"
    }
   ],
   "execution_count": 3
  },
  {
   "metadata": {
    "ExecuteTime": {
     "end_time": "2025-08-30T07:41:30.690316Z",
     "start_time": "2025-08-30T07:41:30.683381Z"
    }
   },
   "cell_type": "code",
   "source": [
    "class CuisineRecipe(BaseModel):\n",
    "    name: str = Field(description=\"The name of the recipe.\")\n",
    "    recipe: str = Field(description=\"The recipe instructions.\")\n",
    "\n",
    "output_parser = JsonOutputParser(pydantic_object=CuisineRecipe)\n",
    "\n",
    "format_instructions = output_parser.get_format_instructions()\n",
    "\n",
    "print(format_instructions)"
   ],
   "id": "33aa35fa5d2e2aa4",
   "outputs": [
    {
     "name": "stdout",
     "output_type": "stream",
     "text": [
      "The output should be formatted as a JSON instance that conforms to the JSON schema below.\n",
      "\n",
      "As an example, for the schema {\"properties\": {\"foo\": {\"title\": \"Foo\", \"description\": \"a list of strings\", \"type\": \"array\", \"items\": {\"type\": \"string\"}}}, \"required\": [\"foo\"]}\n",
      "the object {\"foo\": [\"bar\", \"baz\"]} is a well-formatted instance of the schema. The object {\"properties\": {\"foo\": [\"bar\", \"baz\"]}} is not well-formatted.\n",
      "\n",
      "Here is the output schema:\n",
      "```\n",
      "{\"properties\": {\"name\": {\"description\": \"The name of the recipe.\", \"title\": \"Name\", \"type\": \"string\"}, \"recipe\": {\"description\": \"The recipe instructions.\", \"title\": \"Recipe\", \"type\": \"string\"}}, \"required\": [\"name\", \"recipe\"]}\n",
      "```\n"
     ]
    }
   ],
   "execution_count": 14
  },
  {
   "metadata": {
    "ExecuteTime": {
     "end_time": "2025-08-30T07:39:38.180096Z",
     "start_time": "2025-08-30T07:39:38.176734Z"
    }
   },
   "cell_type": "code",
   "source": [
    "prompt = PromptTemplate(\n",
    "    template=\"Answer the user query.\\n{format_instructions}\\n{query}\\n return only the JSON object.\",\n",
    "    input_variables=[\"query\"],\n",
    "    partial_variables={\"format_instructions\": format_instructions},\n",
    ")\n",
    "\n",
    "print(prompt)"
   ],
   "id": "56ec860877758bb9",
   "outputs": [
    {
     "name": "stdout",
     "output_type": "stream",
     "text": [
      "input_variables=['query'] input_types={} partial_variables={'format_instructions': 'The output should be formatted as a JSON instance that conforms to the JSON schema below.\\n\\nAs an example, for the schema {\"properties\": {\"foo\": {\"title\": \"Foo\", \"description\": \"a list of strings\", \"type\": \"array\", \"items\": {\"type\": \"string\"}}}, \"required\": [\"foo\"]}\\nthe object {\"foo\": [\"bar\", \"baz\"]} is a well-formatted instance of the schema. The object {\"properties\": {\"foo\": [\"bar\", \"baz\"]}} is not well-formatted.\\n\\nHere is the output schema:\\n```\\n{\"properties\": {\"name\": {\"description\": \"The name of the recipe.\", \"title\": \"Name\", \"type\": \"string\"}, \"recipe\": {\"description\": \"The recipe instructions.\", \"title\": \"Recipe\", \"type\": \"string\"}}, \"required\": [\"name\", \"recipe\"]}\\n```'} template='Answer the user query.\\n{format_instructions}\\n{query}\\n return only the JSON object.'\n"
     ]
    }
   ],
   "execution_count": 5
  },
  {
   "metadata": {
    "ExecuteTime": {
     "end_time": "2025-08-30T07:42:12.537069Z",
     "start_time": "2025-08-30T07:42:07.422366Z"
    }
   },
   "cell_type": "code",
   "source": [
    "chain = prompt | llm | output_parser\n",
    "\n",
    "result = chain.invoke(\n",
    "    {\n",
    "        \"query\": \"Give me a recipe for a simple Italian pasta dish with tomato sauce and basil.\"\n",
    "    })\n",
    "\n",
    "print(result)"
   ],
   "id": "bd30c37ea45659ab",
   "outputs": [
    {
     "name": "stdout",
     "output_type": "stream",
     "text": [
      "{'name': 'Spaghetti Aglio e Olio', 'recipe': 'Cook spaghetti according to package instructions. Heat olive oil in a pan over medium heat. Add minced garlic and cook until fragrant. Stir in chopped fresh basil. Serve with cooked pasta.'}\n",
      "{\"name\": \"Spaghetti Aglio e Olio\", \"recipe\": \"Cook spaghetti according to package instructions. Heat olive oil in a pan over medium heat. Add minced garlic and cook until fragrant. Stir in chopped fresh basil. Serve with cooked pasta.\"}\n"
     ]
    }
   ],
   "execution_count": 17
  },
  {
   "metadata": {},
   "cell_type": "code",
   "outputs": [],
   "execution_count": null,
   "source": "",
   "id": "746049a57dee1070"
  },
  {
   "metadata": {
    "ExecuteTime": {
     "end_time": "2025-08-30T07:39:46.728028Z",
     "start_time": "2025-08-30T07:39:46.726397Z"
    }
   },
   "cell_type": "code",
   "source": "",
   "id": "3697e1e43b144f86",
   "outputs": [],
   "execution_count": null
  }
 ],
 "metadata": {
  "kernelspec": {
   "display_name": "Python 3",
   "language": "python",
   "name": "python3"
  },
  "language_info": {
   "codemirror_mode": {
    "name": "ipython",
    "version": 2
   },
   "file_extension": ".py",
   "mimetype": "text/x-python",
   "name": "python",
   "nbconvert_exporter": "python",
   "pygments_lexer": "ipython2",
   "version": "2.7.6"
  }
 },
 "nbformat": 4,
 "nbformat_minor": 5
}
